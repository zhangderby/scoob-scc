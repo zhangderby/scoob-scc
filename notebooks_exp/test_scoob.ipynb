{
 "cells": [
  {
   "cell_type": "code",
   "execution_count": 1,
   "metadata": {},
   "outputs": [
    {
     "name": "stderr",
     "output_type": "stream",
     "text": [
      "/opt/conda/envs/py310-scoob-env/lib/python3.10/site-packages/cupyx/jit/_interface.py:173: FutureWarning: cupyx.jit.rawkernel is experimental. The interface can change in the future.\n",
      "  cupy._util.experimental('cupyx.jit.rawkernel')\n",
      "INFO:purepyindi2.transports:Connected to localhost:7624\n"
     ]
    },
    {
     "name": "stdout",
     "output_type": "stream",
     "text": [
      "Could not import deepdish!\n",
      "Could not import ray. Parallelized model unavailble.\n",
      "/home/derbyk/src/scoob-scc/scoobscc\n"
     ]
    },
    {
     "data": {
      "image/png": "[encoded data removed]",
      "text/plain": [
       "<Figure size 500x500 with 2 Axes>"
      ]
     },
     "metadata": {},
     "output_type": "display_data"
    }
   ],
   "source": [
    "import numpy as np\n",
    "import astropy.units as u\n",
    "from astropy.io import fits\n",
    "import time \n",
    "from importlib import reload\n",
    "import copy\n",
    "from datetime import datetime\n",
    "today = int(datetime.today().strftime('%Y%m%d'))\n",
    "\n",
    "import matplotlib.pyplot as plt\n",
    "from matplotlib.colors import LogNorm, Normalize, CenteredNorm\n",
    "from matplotlib.patches import Circle, Rectangle\n",
    "\n",
    "import scoobscc\n",
    "print(scoobscc.path)\n",
    "data_path = scoobscc.path/'exp-data'\n",
    "\n",
    "from scoobscc.math_module import xp, xcipy, ensure_np_array\n",
    "from scoobscc import utils, telem, dm\n",
    "from scoobscc import iefc\n",
    "import scoobscc.scoob_interface as scoobi\n",
    "\n",
    "from magpyx.utils import ImageStream\n",
    "\n",
    "import purepyindi\n",
    "from purepyindi import INDIClient\n",
    "import purepyindi2\n",
    "from purepyindi2 import IndiClient\n",
    "client0 = INDIClient('localhost', 7624)\n",
    "client0.start()\n",
    "client = IndiClient()\n",
    "client.connect()\n",
    "client.get_properties()\n",
    "\n",
    "wavelength_c = 633e-9\n",
    "camsci_pxscl = 4.6e-6\n",
    "camsci_pxscl_lamDc = 0.307\n",
    "\n",
    "dm_mask = ensure_np_array(dm.make_mask(34))\n",
    "utils.imshow([dm_mask])"
   ]
  },
  {
   "cell_type": "code",
   "execution_count": 2,
   "metadata": {},
   "outputs": [],
   "source": [
    "reload(scoobi)\n",
    "camsci_channel = 'camsci'\n",
    "dm_ho_channel = 'dm00disp03'\n",
    "\n",
    "camsci_stream = ImageStream(camsci_channel)\n",
    "dm_ho_stream = ImageStream(dm_ho_channel)"
   ]
  },
  {
   "cell_type": "code",
   "execution_count": 9,
   "metadata": {},
   "outputs": [
    {
     "name": "stdout",
     "output_type": "stream",
     "text": [
      "Set camsci ROI.\n",
      "Set the camsci exposure time to 5.00e-03s\n",
      "Set the camsci gain setting to 120.0\n",
      "Set the camsci blacklevel to 2.0\n"
     ]
    }
   ],
   "source": [
    "reload(scoobi)\n",
    "\n",
    "ncamsci = 256\n",
    "xc, yc = (5875, 2575)\n",
    "ncamsci = 512\n",
    "scoobi.set_cam_roi(xc, yc, ncamsci, client0, cam_name=camsci_channel)\n",
    "scoobi.set_cam_exp_time(0.005, client0, cam_name=camsci_channel)\n",
    "scoobi.set_cam_gain(120, client0, cam_name=camsci_channel)\n",
    "scoobi.set_cam_blacklevel(2, client0, cam_name=camsci_channel)"
   ]
  },
  {
   "cell_type": "code",
   "execution_count": 6,
   "metadata": {},
   "outputs": [],
   "source": [
    "camsci_stream = ImageStream(camsci_channel)"
   ]
  },
  {
   "cell_type": "code",
   "execution_count": null,
   "metadata": {},
   "outputs": [],
   "source": []
  },
  {
   "cell_type": "code",
   "execution_count": null,
   "metadata": {},
   "outputs": [],
   "source": []
  }
 ],
 "metadata": {
  "kernelspec": {
   "display_name": "py310-scoob-env",
   "language": "python",
   "name": "python3"
  },
  "language_info": {
   "codemirror_mode": {
    "name": "ipython",
    "version": 3
   },
   "file_extension": ".py",
   "mimetype": "text/x-python",
   "name": "python",
   "nbconvert_exporter": "python",
   "pygments_lexer": "ipython3",
   "version": "3.10.14"
  }
 },
 "nbformat": 4,
 "nbformat_minor": 2
}
